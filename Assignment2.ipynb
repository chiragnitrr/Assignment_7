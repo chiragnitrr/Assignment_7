{
 "cells": [
  {
   "cell_type": "code",
   "execution_count": null,
   "id": "3c1960d3-ac0f-4788-8218-7a5231dce44f",
   "metadata": {},
   "outputs": [],
   "source": [
    "Q1. What is Abstraction in OOps? Explain with an example.\n",
    "Answer - Abstraction is one of the pillar of OOPs it is the process of hidding the unessary data from user.\n",
    "         user only implement the method without knowing the logic and complexity behind it.\n",
    "    Example - Car is one of the best real life example of Abstraction, we control the direction of car\n",
    "    whith the help of steering just by rotating the steering but in this whole process there are several\n",
    "    lever and gear mechanism are present and it is very complex for user to understand ."
   ]
  },
  {
   "cell_type": "code",
   "execution_count": null,
   "id": "77153945-53c6-48cd-9192-b8f43bbe7c82",
   "metadata": {},
   "outputs": [],
   "source": [
    "Q2. Differentiate between Abstraction and Encapsulation. Explain with an example.\n",
    "Answer :Abstraction is hiding the details and implementation of code and Encapsulation is hiding the data\n",
    "        and control the visibilty of the code. in Abstraction we focus only use of the object of a class \n",
    "        instead of its implementation and in Encapsulation it bind the data with class and control over \n",
    "        maintaining the transperency of code. Abstraction is design level process and Encapsulation is \n",
    "        implementation level process.\n",
    "        Example : camera is example of abstraction we click photos but we don't know sciece behid it.\n",
    "                  school bag is example of encapsulation bag contain our books, copy , lunch box , pen."
   ]
  },
  {
   "cell_type": "code",
   "execution_count": null,
   "id": "700bfcb3-f65b-4af1-9bef-e63315d1df1c",
   "metadata": {},
   "outputs": [],
   "source": [
    "Q3. What is abc module in python? Why is it used?\n",
    "Answer : abc means abstract base class . abc module offers the necessary tools for crafting an abstract\n",
    "         base class. abstract base class prevent any attempt to instantiate a subclass that doesn’t \n",
    "         override a particular method in the superclass. And finally, using an abstract class, a class \n",
    "         can derive identity from another class without any object inheritance. "
   ]
  },
  {
   "cell_type": "code",
   "execution_count": 2,
   "id": "4f710951-7d4a-4112-8d68-ae8da6fc6c14",
   "metadata": {},
   "outputs": [
    {
     "name": "stdout",
     "output_type": "stream",
     "text": [
      "The mileage is 30kmph\n",
      "The mileage is 25kmph \n"
     ]
    }
   ],
   "source": [
    "# Q4. How can we achieve data abstraction?\n",
    "# Answer :  Data abstraction in python is achieved through creating abstract class and inherit them latter.\n",
    "#         Example :\n",
    "\n",
    "from abc import ABC,abstractmethod\n",
    "class Car(ABC):   \n",
    "    def mileage(self):   \n",
    "        pass  \n",
    "  \n",
    "class Tesla(Car):   \n",
    "    def mileage(self):   \n",
    "        print(\"The mileage is 30kmph\")\n",
    "        \n",
    "class Suzuki(Car):   \n",
    "    def mileage(self):   \n",
    "        print(\"The mileage is 25kmph \")\n",
    "        \n",
    "t= Tesla ()   \n",
    "t.mileage()   \n",
    "  \n",
    "r = Suzuki()   \n",
    "r.mileage() "
   ]
  },
  {
   "cell_type": "code",
   "execution_count": null,
   "id": "6699b301-a266-4147-bc01-6a833478cbca",
   "metadata": {},
   "outputs": [],
   "source": [
    "Q5. Can we create an instance of an abstract class? Explain your answer.\n",
    "Answer : we can't create an instance of an abstract class. abstract class are incomplete they may have \n",
    "        some method that are not define when another class is inherit a abstract class then these methods\n",
    "        are define."
   ]
  }
 ],
 "metadata": {
  "kernelspec": {
   "display_name": "Python 3 (ipykernel)",
   "language": "python",
   "name": "python3"
  },
  "language_info": {
   "codemirror_mode": {
    "name": "ipython",
    "version": 3
   },
   "file_extension": ".py",
   "mimetype": "text/x-python",
   "name": "python",
   "nbconvert_exporter": "python",
   "pygments_lexer": "ipython3",
   "version": "3.10.8"
  }
 },
 "nbformat": 4,
 "nbformat_minor": 5
}
